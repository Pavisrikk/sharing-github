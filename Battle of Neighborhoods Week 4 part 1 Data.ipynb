{
    "cells": [
        {
            "cell_type": "markdown",
            "metadata": {},
            "source": "#  Applied Datascience Capstone Project Week 4 Assignment"
        },
        {
            "cell_type": "markdown",
            "metadata": {
                "collapsed": true
            },
            "source": "#  Comparison Between Two Metropolitan Cities of US : Atlanta,GA vs Chicago, IL "
        },
        {
            "cell_type": "markdown",
            "metadata": {},
            "source": "# Introduction "
        },
        {
            "cell_type": "markdown",
            "metadata": {},
            "source": "##  Background"
        },
        {
            "cell_type": "markdown",
            "metadata": {},
            "source": "Chicago is the most populous city in the U.S. state of Illinois, and the third-most-populous city in the United States. With an estimated population of 2,693,976 in 2019, it is also the most populous city in the Midwestern United States.Chicago is an international hub for finance, culture, commerce, industry, education, technology, telecommunications, and transportation.Atlanta is the capitol of the US state of Georgia and is the\nmost populous city in the state with an estimated 498,044 residents. Atlanta is a culturally and economically diverse city\nwith dominant economic sectors including aerospace, transportation, professional and business services, media and\nmedical operations, and information technology.\n"
        },
        {
            "cell_type": "markdown",
            "metadata": {},
            "source": "## Business Problem"
        },
        {
            "cell_type": "markdown",
            "metadata": {},
            "source": "The goal of the project is  is to explore the neighborhoods in both cities and group them by common nearby venues. This will assist anyone visiting or relocating between the cities to consider which areas are most similar to their current neighborhood and therefore might offer their preferred range of amenities. This information is very useful when moving to an unknown city and will help narrow down the list of areas to search for a new home, thus speeding up the relocation process and avoiding overly long and potentially pricey stays in hotels or other temporary living arrangements. Alternatively for those who have kids going to school, this information will be useful in deciding the schools that best fits for their children."
        },
        {
            "cell_type": "markdown",
            "metadata": {},
            "source": ""
        },
        {
            "cell_type": "markdown",
            "metadata": {},
            "source": ""
        },
        {
            "cell_type": "code",
            "execution_count": null,
            "metadata": {},
            "outputs": [],
            "source": ""
        }
    ],
    "metadata": {
        "kernelspec": {
            "display_name": "Python 3.6",
            "language": "python",
            "name": "python3"
        },
        "language_info": {
            "codemirror_mode": {
                "name": "ipython",
                "version": 3
            },
            "file_extension": ".py",
            "mimetype": "text/x-python",
            "name": "python",
            "nbconvert_exporter": "python",
            "pygments_lexer": "ipython3",
            "version": "3.6.9"
        }
    },
    "nbformat": 4,
    "nbformat_minor": 1
}